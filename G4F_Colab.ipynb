{
  "nbformat": 4,
  "nbformat_minor": 0,
  "metadata": {
    "colab": {
      "provenance": []
    },
    "kernelspec": {
      "name": "python3",
      "display_name": "Python 3"
    },
    "language_info": {
      "name": "python"
    }
  },
  "cells": [
    {
      "cell_type": "code",
      "source": [
        "# @markdown # **Step 0.** _Removing sample_data_\n",
        "\n",
        "!rm -rf /content/sample_data"
      ],
      "metadata": {
        "cellView": "form",
        "id": "7n073yCj5GI8"
      },
      "execution_count": 1,
      "outputs": []
    },
    {
      "cell_type": "code",
      "source": [
        "# @markdown # **Step 1.** _Installing dependencies_\n",
        "\n",
        "from google.colab import output\n",
        "\n",
        "%cd /content\n",
        "\n",
        "# Installing dependencies\n",
        "\n",
        "!pip install g4f[all] pyngrok\n",
        "\n",
        "# Clearing the output\n",
        "\n",
        "output.clear()"
      ],
      "metadata": {
        "cellView": "form",
        "id": "CrHHqP395KFE"
      },
      "execution_count": 2,
      "outputs": []
    },
    {
      "cell_type": "code",
      "source": [
        "# @markdown # **Step 2.** _Launch of G4F_\n",
        "\n",
        "import os\n",
        "import sys\n",
        "import signal\n",
        "import subprocess\n",
        "\n",
        "from google.colab import userdata\n",
        "from pyngrok import ngrok, conf\n",
        "\n",
        "%cd /content\n",
        "\n",
        "\n",
        "def signal_handler(signal, frame) -> None:\n",
        "    print(\"\\n\")\n",
        "    print(\"Ctrl+C pressed. Aborting.\")\n",
        "    print(\"Come back soon!\")\n",
        "\n",
        "    sys.exit(1)\n",
        "\n",
        "\n",
        "def open_tunnel() -> None:\n",
        "    print(\"Opening of the tunnel...\")\n",
        "\n",
        "    ngrok.kill()\n",
        "\n",
        "    ngrok_token = userdata.get(\"NGROK_TOKEN\")\n",
        "    ngrok_domain = userdata.get(\"NGROK_DOMAIN\")\n",
        "\n",
        "    ngrok_config = conf.PyngrokConfig(\n",
        "        auth_token = ngrok_token\n",
        "    )\n",
        "\n",
        "    server = ngrok.connect(\n",
        "        9090,\n",
        "        pyngrok_config = ngrok_config,\n",
        "        bind_tls = True,\n",
        "        domain = ngrok_domain\n",
        "    ).public_url\n",
        "\n",
        "    print(f\"The tunnel is open at the link: {server}\")\n",
        "\n",
        "\n",
        "def bind_signal() -> None:\n",
        "    signal.signal(signal.SIGINT, signal_handler)\n",
        "    print(\"Press Ctrl+C to exit.\")\n",
        "\n",
        "\n",
        "def start_ngrok() -> None:\n",
        "    open_tunnel()\n",
        "    bind_signal()\n",
        "\n",
        "    command = f\"python -m g4f.cli gui -port 9090 -debug\"\n",
        "    environment = os.environ.copy()\n",
        "\n",
        "    subprocess.run(\n",
        "        command,\n",
        "        shell = True,\n",
        "        env = environment\n",
        "    )\n",
        "\n",
        "    signal.pause()\n",
        "\n",
        "\n",
        "start_ngrok()"
      ],
      "metadata": {
        "cellView": "form",
        "id": "IReE1WcA5WAP"
      },
      "execution_count": null,
      "outputs": []
    }
  ]
}